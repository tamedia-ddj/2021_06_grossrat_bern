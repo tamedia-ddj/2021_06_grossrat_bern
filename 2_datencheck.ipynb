{
 "cells": [
  {
   "cell_type": "markdown",
   "metadata": {
    "toc": true
   },
   "source": [
    "<h1>Table of Contents<span class=\"tocSkip\"></span></h1>\n",
    "<div class=\"toc\"><ul class=\"toc-item\"><li><span><a href=\"#Datencheck\" data-toc-modified-id=\"Datencheck-1\"><span class=\"toc-item-num\">1&nbsp;&nbsp;</span>Datencheck</a></span></li></ul></div>"
   ]
  },
  {
   "cell_type": "markdown",
   "metadata": {},
   "source": [
    "# Aufbereitung Abstimmungsdaten Grossrat\n",
    "In diesem Notebook werden die Daten der verschiedenen Abstimmungsanlagen geprüft. "
   ]
  },
  {
   "cell_type": "code",
   "execution_count": 2,
   "metadata": {},
   "outputs": [],
   "source": [
    "# Die nötigen Bilbiotheken werden importiert. \n",
    "import pandas as pd\n",
    "from os import listdir\n",
    "from tqdm import tqdm\n",
    "import numpy as np\n",
    "from fuzzywuzzy import process"
   ]
  },
  {
   "cell_type": "code",
   "execution_count": 108,
   "metadata": {},
   "outputs": [
    {
     "name": "stderr",
     "output_type": "stream",
     "text": [
      "2021-06-04 17:05:37,680 [203785] WARNING  py.warnings:109: [JupyterRequire] /usr/lib/python3/dist-packages/IPython/core/interactiveshell.py:3062: DtypeWarning: Columns (3,9) have mixed types.Specify dtype option on import or set low_memory=False.\n",
      "  has_raised = await self.run_ast_nodes(code_ast.body, cell_name,\n",
      "\n"
     ]
    }
   ],
   "source": [
    "# Die Daten werden exportiert. \n",
    "df = pd.read_csv('daten/abstimmungen_grossrat.csv', index_col='Unnamed: 0')\n",
    "df['datetime'] = pd.to_datetime(df['datetime'])\n",
    "df['date'] = df['datetime'].apply(lambda x: x.date())"
   ]
  },
  {
   "cell_type": "markdown",
   "metadata": {},
   "source": [
    "## Datencheck"
   ]
  },
  {
   "cell_type": "code",
   "execution_count": 109,
   "metadata": {},
   "outputs": [
    {
     "data": {
      "text/html": [
       "<div>\n",
       "<style scoped>\n",
       "    .dataframe tbody tr th:only-of-type {\n",
       "        vertical-align: middle;\n",
       "    }\n",
       "\n",
       "    .dataframe tbody tr th {\n",
       "        vertical-align: top;\n",
       "    }\n",
       "\n",
       "    .dataframe thead th {\n",
       "        text-align: right;\n",
       "    }\n",
       "</style>\n",
       "<table border=\"1\" class=\"dataframe\">\n",
       "  <thead>\n",
       "    <tr style=\"text-align: right;\">\n",
       "      <th></th>\n",
       "      <th>nachname</th>\n",
       "      <th>vorname</th>\n",
       "      <th>wohnort</th>\n",
       "      <th>partei</th>\n",
       "      <th>datetime</th>\n",
       "      <th>geschäftsname</th>\n",
       "      <th>stimme</th>\n",
       "      <th>res_ja</th>\n",
       "      <th>res_nein</th>\n",
       "      <th>res_enthaltung</th>\n",
       "      <th>res_keine_stimme</th>\n",
       "      <th>anlage</th>\n",
       "      <th>dateiname</th>\n",
       "      <th>register</th>\n",
       "      <th>date</th>\n",
       "    </tr>\n",
       "  </thead>\n",
       "  <tbody>\n",
       "    <tr>\n",
       "      <th>1</th>\n",
       "      <td>Aebi</td>\n",
       "      <td>Markus</td>\n",
       "      <td>Hellsau</td>\n",
       "      <td>SVP / UDC</td>\n",
       "      <td>2018-06-04 15:47:00</td>\n",
       "      <td>#2017.RRGR.459_0</td>\n",
       "      <td>ja</td>\n",
       "      <td>137.0</td>\n",
       "      <td>1.0</td>\n",
       "      <td>1.0</td>\n",
       "      <td>NaN</td>\n",
       "      <td>rathaus</td>\n",
       "      <td>Sommersession 2018.xlsx</td>\n",
       "      <td>4.04.2018</td>\n",
       "      <td>2018-06-04</td>\n",
       "    </tr>\n",
       "    <tr>\n",
       "      <th>2</th>\n",
       "      <td>Aebischer</td>\n",
       "      <td>Verena</td>\n",
       "      <td>Riffenmatt</td>\n",
       "      <td>SVP / UDC</td>\n",
       "      <td>2018-06-04 15:47:00</td>\n",
       "      <td>#2017.RRGR.459_0</td>\n",
       "      <td>ja</td>\n",
       "      <td>137.0</td>\n",
       "      <td>1.0</td>\n",
       "      <td>1.0</td>\n",
       "      <td>NaN</td>\n",
       "      <td>rathaus</td>\n",
       "      <td>Sommersession 2018.xlsx</td>\n",
       "      <td>4.04.2018</td>\n",
       "      <td>2018-06-04</td>\n",
       "    </tr>\n",
       "    <tr>\n",
       "      <th>3</th>\n",
       "      <td>Amstutz</td>\n",
       "      <td>Madeleine</td>\n",
       "      <td>Schwanden-Sigriswil</td>\n",
       "      <td>SVP / UDC</td>\n",
       "      <td>2018-06-04 15:47:00</td>\n",
       "      <td>#2017.RRGR.459_0</td>\n",
       "      <td>ja</td>\n",
       "      <td>137.0</td>\n",
       "      <td>1.0</td>\n",
       "      <td>1.0</td>\n",
       "      <td>NaN</td>\n",
       "      <td>rathaus</td>\n",
       "      <td>Sommersession 2018.xlsx</td>\n",
       "      <td>4.04.2018</td>\n",
       "      <td>2018-06-04</td>\n",
       "    </tr>\n",
       "    <tr>\n",
       "      <th>4</th>\n",
       "      <td>Augstburger</td>\n",
       "      <td>Ueli</td>\n",
       "      <td>Gerzensee</td>\n",
       "      <td>SVP / UDC</td>\n",
       "      <td>2018-06-04 15:47:00</td>\n",
       "      <td>#2017.RRGR.459_0</td>\n",
       "      <td>ja</td>\n",
       "      <td>137.0</td>\n",
       "      <td>1.0</td>\n",
       "      <td>1.0</td>\n",
       "      <td>NaN</td>\n",
       "      <td>rathaus</td>\n",
       "      <td>Sommersession 2018.xlsx</td>\n",
       "      <td>4.04.2018</td>\n",
       "      <td>2018-06-04</td>\n",
       "    </tr>\n",
       "    <tr>\n",
       "      <th>5</th>\n",
       "      <td>Benoit</td>\n",
       "      <td>Roland</td>\n",
       "      <td>Corgémont</td>\n",
       "      <td>SVP / UDC</td>\n",
       "      <td>2018-06-04 15:47:00</td>\n",
       "      <td>#2017.RRGR.459_0</td>\n",
       "      <td>ja</td>\n",
       "      <td>137.0</td>\n",
       "      <td>1.0</td>\n",
       "      <td>1.0</td>\n",
       "      <td>NaN</td>\n",
       "      <td>rathaus</td>\n",
       "      <td>Sommersession 2018.xlsx</td>\n",
       "      <td>4.04.2018</td>\n",
       "      <td>2018-06-04</td>\n",
       "    </tr>\n",
       "  </tbody>\n",
       "</table>\n",
       "</div>"
      ],
      "text/plain": [
       "      nachname    vorname              wohnort     partei            datetime  \\\n",
       "1         Aebi     Markus              Hellsau  SVP / UDC 2018-06-04 15:47:00   \n",
       "2    Aebischer     Verena           Riffenmatt  SVP / UDC 2018-06-04 15:47:00   \n",
       "3      Amstutz  Madeleine  Schwanden-Sigriswil  SVP / UDC 2018-06-04 15:47:00   \n",
       "4  Augstburger       Ueli            Gerzensee  SVP / UDC 2018-06-04 15:47:00   \n",
       "5       Benoit     Roland            Corgémont  SVP / UDC 2018-06-04 15:47:00   \n",
       "\n",
       "      geschäftsname stimme  res_ja res_nein  res_enthaltung  res_keine_stimme  \\\n",
       "1  #2017.RRGR.459_0     ja   137.0      1.0             1.0               NaN   \n",
       "2  #2017.RRGR.459_0     ja   137.0      1.0             1.0               NaN   \n",
       "3  #2017.RRGR.459_0     ja   137.0      1.0             1.0               NaN   \n",
       "4  #2017.RRGR.459_0     ja   137.0      1.0             1.0               NaN   \n",
       "5  #2017.RRGR.459_0     ja   137.0      1.0             1.0               NaN   \n",
       "\n",
       "    anlage                dateiname   register        date  \n",
       "1  rathaus  Sommersession 2018.xlsx  4.04.2018  2018-06-04  \n",
       "2  rathaus  Sommersession 2018.xlsx  4.04.2018  2018-06-04  \n",
       "3  rathaus  Sommersession 2018.xlsx  4.04.2018  2018-06-04  \n",
       "4  rathaus  Sommersession 2018.xlsx  4.04.2018  2018-06-04  \n",
       "5  rathaus  Sommersession 2018.xlsx  4.04.2018  2018-06-04  "
      ]
     },
     "execution_count": 109,
     "metadata": {},
     "output_type": "execute_result"
    }
   ],
   "source": [
    "# Ein erster Blick auf die Daten. \n",
    "df.head()"
   ]
  },
  {
   "cell_type": "code",
   "execution_count": 110,
   "metadata": {},
   "outputs": [
    {
     "data": {
      "text/plain": [
       "303914"
      ]
     },
     "execution_count": 110,
     "metadata": {},
     "output_type": "execute_result"
    }
   ],
   "source": [
    "# Wie viele Einträge sind vorhanden? \n",
    "len(df)"
   ]
  },
  {
   "cell_type": "code",
   "execution_count": 111,
   "metadata": {},
   "outputs": [
    {
     "name": "stderr",
     "output_type": "stream",
     "text": [
      "2021-06-04 17:05:43,153 [203785] WARNING  py.warnings:109: [JupyterRequire] <ipython-input-111-8911b8d542a4>:2: FutureWarning: Treating datetime data as categorical rather than numeric in `.describe` is deprecated and will be removed in a future version of pandas. Specify `datetime_is_numeric=True` to silence this warning and adopt the future behavior now.\n",
      "  df['datetime'].describe()[['first', 'last']]\n",
      "\n"
     ]
    },
    {
     "data": {
      "text/plain": [
       "first    2018-06-04 15:47:00\n",
       "last     2021-03-22 15:55:40\n",
       "Name: datetime, dtype: object"
      ]
     },
     "execution_count": 111,
     "metadata": {},
     "output_type": "execute_result"
    }
   ],
   "source": [
    "# Welche Zeitspanne wird abgedeckt? \n",
    "df['datetime'].describe()[['first', 'last']]"
   ]
  },
  {
   "cell_type": "code",
   "execution_count": 112,
   "metadata": {
    "scrolled": true
   },
   "outputs": [
    {
     "data": {
      "text/plain": [
       "161"
      ]
     },
     "execution_count": 112,
     "metadata": {},
     "output_type": "execute_result"
    }
   ],
   "source": [
    "# Wie viele Stimmen (bzw. Enthaltungen) liegen maximal pro Abstimmung vor? \n",
    "df_temp = df.groupby(by=['geschäftsname', 'dateiname', 'register', 'datetime'])['stimme'].count().to_frame()\n",
    "df_temp['stimme'].max()"
   ]
  },
  {
   "cell_type": "code",
   "execution_count": 114,
   "metadata": {},
   "outputs": [
    {
     "data": {
      "text/plain": [
       "116"
      ]
     },
     "execution_count": 114,
     "metadata": {},
     "output_type": "execute_result"
    }
   ],
   "source": [
    "# Wie viele Stimmen (bzw. Enthaltungen) liegen minimal pro Abstimmung vor? \n",
    "df_temp = df.groupby(by=['geschäftsname', 'dateiname', 'register', 'date'])['stimme'].count().to_frame()\n",
    "df_temp['stimme'].min()"
   ]
  },
  {
   "cell_type": "code",
   "execution_count": 115,
   "metadata": {},
   "outputs": [
    {
     "data": {
      "text/plain": [
       "array(['SVP / UDC', 'SP-JUSO-PSA / PS-JS-PSA', 'FDP / PLR',\n",
       "       'Grüne / Les Verts', 'BDP / PBD', 'glp / pvl', 'EVP / PEV',\n",
       "       'EDU / UDF', 'CVP / PDC', 'SVP', 'EDU', 'FDP', 'BDP', 'glp',\n",
       "       'Grüne', 'SP', 'EVP', 'PLR', 'PSA', 'AL', 'CVP', 'PS', 'les Verts',\n",
       "       'UDC', 'PEV', 'PDC', 'SVP/UDC', 'FDP/PLR', 'Grüne/les Verts',\n",
       "       'fraktionslos', 'Die Mitte', 'glp/plv', 'EVP/PEV', 'EDU/UDF'],\n",
       "      dtype=object)"
      ]
     },
     "execution_count": 115,
     "metadata": {},
     "output_type": "execute_result"
    }
   ],
   "source": [
    "# Welche Parteien sind verzeichnet? \n",
    "df['partei'].unique()"
   ]
  },
  {
   "cell_type": "code",
   "execution_count": 122,
   "metadata": {},
   "outputs": [
    {
     "data": {
      "text/html": [
       "<div>\n",
       "<style scoped>\n",
       "    .dataframe tbody tr th:only-of-type {\n",
       "        vertical-align: middle;\n",
       "    }\n",
       "\n",
       "    .dataframe tbody tr th {\n",
       "        vertical-align: top;\n",
       "    }\n",
       "\n",
       "    .dataframe thead th {\n",
       "        text-align: right;\n",
       "    }\n",
       "</style>\n",
       "<table border=\"1\" class=\"dataframe\">\n",
       "  <thead>\n",
       "    <tr style=\"text-align: right;\">\n",
       "      <th></th>\n",
       "      <th>nachname</th>\n",
       "    </tr>\n",
       "    <tr>\n",
       "      <th>partei</th>\n",
       "      <th></th>\n",
       "    </tr>\n",
       "  </thead>\n",
       "  <tbody>\n",
       "    <tr>\n",
       "      <th>BDP / PBD</th>\n",
       "      <td>14</td>\n",
       "    </tr>\n",
       "    <tr>\n",
       "      <th>EDU / UDF</th>\n",
       "      <td>5</td>\n",
       "    </tr>\n",
       "    <tr>\n",
       "      <th>EVP / PEV</th>\n",
       "      <td>10</td>\n",
       "    </tr>\n",
       "    <tr>\n",
       "      <th>FDP / PLR</th>\n",
       "      <td>20</td>\n",
       "    </tr>\n",
       "    <tr>\n",
       "      <th>Grüne / Les Verts</th>\n",
       "      <td>15</td>\n",
       "    </tr>\n",
       "    <tr>\n",
       "      <th>SP-JUSO-PSA / PS-JS-PSA</th>\n",
       "      <td>40</td>\n",
       "    </tr>\n",
       "    <tr>\n",
       "      <th>SVP / UDC</th>\n",
       "      <td>45</td>\n",
       "    </tr>\n",
       "    <tr>\n",
       "      <th>glp / pvl</th>\n",
       "      <td>11</td>\n",
       "    </tr>\n",
       "  </tbody>\n",
       "</table>\n",
       "</div>"
      ],
      "text/plain": [
       "                         nachname\n",
       "partei                           \n",
       "BDP / PBD                      14\n",
       "EDU / UDF                       5\n",
       "EVP / PEV                      10\n",
       "FDP / PLR                      20\n",
       "Grüne / Les Verts              15\n",
       "SP-JUSO-PSA / PS-JS-PSA        40\n",
       "SVP / UDC                      45\n",
       "glp / pvl                      11"
      ]
     },
     "execution_count": 122,
     "metadata": {},
     "output_type": "execute_result"
    }
   ],
   "source": [
    "# Wie viele Parlamentarierinnen und Parlamentarier gibts pro Partei am ersten Tag? \n",
    "df[df['date'] == df['date'].min()][['nachname', 'vorname', 'partei']].drop_duplicates().groupby(by='partei').count()[['nachname']]"
   ]
  },
  {
   "cell_type": "code",
   "execution_count": 121,
   "metadata": {},
   "outputs": [
    {
     "data": {
      "text/plain": [
       "463"
      ]
     },
     "execution_count": 121,
     "metadata": {},
     "output_type": "execute_result"
    }
   ],
   "source": [
    "# Wie viele verschiedene Personen sind verzeichnet? (Parteiwechsler zählen doppelt.)\n",
    "len(df[['nachname', 'vorname', 'partei']].drop_duplicates())"
   ]
  },
  {
   "cell_type": "code",
   "execution_count": null,
   "metadata": {},
   "outputs": [],
   "source": [
    "# Wie viele Stimmen gabs in den BEA1-Abstimmungen? \n",
    "df_temp = df_bea_1.groupby(by=['datetime', 'geschäftsname', 'dateiname', 'register'])['stimme'].count().to_frame()\n",
    "df_temp.describe()"
   ]
  },
  {
   "cell_type": "code",
   "execution_count": 125,
   "metadata": {},
   "outputs": [
    {
     "data": {
      "text/html": [
       "<div>\n",
       "<style scoped>\n",
       "    .dataframe tbody tr th:only-of-type {\n",
       "        vertical-align: middle;\n",
       "    }\n",
       "\n",
       "    .dataframe tbody tr th {\n",
       "        vertical-align: top;\n",
       "    }\n",
       "\n",
       "    .dataframe thead th {\n",
       "        text-align: right;\n",
       "    }\n",
       "</style>\n",
       "<table border=\"1\" class=\"dataframe\">\n",
       "  <thead>\n",
       "    <tr style=\"text-align: right;\">\n",
       "      <th></th>\n",
       "      <th>nachname</th>\n",
       "    </tr>\n",
       "  </thead>\n",
       "  <tbody>\n",
       "    <tr>\n",
       "      <th>count</th>\n",
       "      <td>460.000000</td>\n",
       "    </tr>\n",
       "    <tr>\n",
       "      <th>mean</th>\n",
       "      <td>657.317391</td>\n",
       "    </tr>\n",
       "    <tr>\n",
       "      <th>std</th>\n",
       "      <td>445.122792</td>\n",
       "    </tr>\n",
       "    <tr>\n",
       "      <th>min</th>\n",
       "      <td>1.000000</td>\n",
       "    </tr>\n",
       "    <tr>\n",
       "      <th>25%</th>\n",
       "      <td>258.000000</td>\n",
       "    </tr>\n",
       "    <tr>\n",
       "      <th>50%</th>\n",
       "      <td>451.000000</td>\n",
       "    </tr>\n",
       "    <tr>\n",
       "      <th>75%</th>\n",
       "      <td>1211.000000</td>\n",
       "    </tr>\n",
       "    <tr>\n",
       "      <th>max</th>\n",
       "      <td>1469.000000</td>\n",
       "    </tr>\n",
       "  </tbody>\n",
       "</table>\n",
       "</div>"
      ],
      "text/plain": [
       "          nachname\n",
       "count   460.000000\n",
       "mean    657.317391\n",
       "std     445.122792\n",
       "min       1.000000\n",
       "25%     258.000000\n",
       "50%     451.000000\n",
       "75%    1211.000000\n",
       "max    1469.000000"
      ]
     },
     "execution_count": 125,
     "metadata": {},
     "output_type": "execute_result"
    }
   ],
   "source": [
    "# An wievielen Abstimmungen haben die Parlamentarier teilgenommen?\n",
    "df_temp = df.groupby(by=['nachname', 'vorname', 'partei'])['nachname'].count().to_frame()\n",
    "df_temp.describe()"
   ]
  }
 ],
 "metadata": {
  "kernelspec": {
   "display_name": "Python 3",
   "language": "python",
   "name": "python3"
  },
  "language_info": {
   "codemirror_mode": {
    "name": "ipython",
    "version": 3
   },
   "file_extension": ".py",
   "mimetype": "text/x-python",
   "name": "python",
   "nbconvert_exporter": "python",
   "pygments_lexer": "ipython3",
   "version": "3.8.5"
  },
  "toc": {
   "base_numbering": 1,
   "nav_menu": {},
   "number_sections": true,
   "sideBar": true,
   "skip_h1_title": true,
   "title_cell": "Table of Contents",
   "title_sidebar": "Contents",
   "toc_cell": true,
   "toc_position": {},
   "toc_section_display": true,
   "toc_window_display": false
  }
 },
 "nbformat": 4,
 "nbformat_minor": 4
}
